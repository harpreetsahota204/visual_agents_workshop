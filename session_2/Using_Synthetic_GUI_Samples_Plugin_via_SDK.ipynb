{
  "nbformat": 4,
  "nbformat_minor": 0,
  "metadata": {
    "colab": {
      "provenance": [],
      "machine_shape": "hm",
      "gpuType": "A100"
    },
    "kernelspec": {
      "name": "python3",
      "display_name": "Python 3"
    },
    "language_info": {
      "name": "python"
    },
    "accelerator": "GPU"
  },
  "cells": [
    {
      "cell_type": "markdown",
      "source": [
        "# Install requirements"
      ],
      "metadata": {
        "id": "YJ0ECYWsPhnk"
      }
    },
    {
      "cell_type": "code",
      "execution_count": null,
      "metadata": {
        "id": "15Fo-MA6N1O_"
      },
      "outputs": [],
      "source": [
        "!pip install fiftyone"
      ]
    },
    {
      "cell_type": "code",
      "source": [
        "!fiftyone plugins download https://github.com/harpreetsahota204/synthetic_gui_samples_plugins.git --overwrite"
      ],
      "metadata": {
        "id": "zbfRmycvOx6e"
      },
      "execution_count": null,
      "outputs": []
    },
    {
      "cell_type": "markdown",
      "source": [
        "# Download training dataset"
      ],
      "metadata": {
        "id": "ARF5Jem-PlFD"
      }
    },
    {
      "cell_type": "code",
      "source": [
        "import fiftyone as fo\n",
        "\n",
        "from fiftyone.utils.huggingface import load_from_hub\n",
        "\n",
        "dataset = load_from_hub(\n",
        "    \"harpreetsahota/FiftyOne-GUI-Grounding-Train\",\n",
        "    overwrite=True\n",
        "    )"
      ],
      "metadata": {
        "id": "ThQA59B-PsSe"
      },
      "execution_count": null,
      "outputs": []
    },
    {
      "cell_type": "markdown",
      "source": [
        "# Split datatset upfront"
      ],
      "metadata": {
        "id": "2qkhh0RYPfBF"
      }
    },
    {
      "cell_type": "code",
      "source": [
        "import fiftyone.utils.random as four\n",
        "\n",
        "four.random_split(dataset, {\"train\": 0.5, \"val\": 0.5})\n",
        "\n",
        "train_view = dataset.match_tags(\"train\").clone()\n",
        "\n",
        "val_view = dataset.match_tags(\"val\")"
      ],
      "metadata": {
        "id": "uVN0Len3PeRb"
      },
      "execution_count": null,
      "outputs": []
    },
    {
      "cell_type": "code",
      "source": [
        "train_view"
      ],
      "metadata": {
        "id": "HT4zf1UdaWLb"
      },
      "execution_count": null,
      "outputs": []
    },
    {
      "cell_type": "markdown",
      "source": [
        "# Using only training split to generate synthetic samples"
      ],
      "metadata": {
        "id": "8cy_msB4PeV0"
      }
    },
    {
      "cell_type": "markdown",
      "source": [
        "Before running the plugins, open the terminal and launch a delegated service: `fiftyone delegated launch`"
      ],
      "metadata": {
        "id": "j6QzuoWZSTac"
      }
    },
    {
      "cell_type": "code",
      "source": [
        "import fiftyone as fo\n",
        "import fiftyone.operators as foo\n",
        "\n",
        "rephraser = foo.get_operator(\"@harpreetsahota/synthetic_gui_samples_plugins/task_description_augment\")\n",
        "\n",
        "rephraser(\n",
        "    train_view,\n",
        "    model_name=\"Qwen/Qwen3-8B\",\n",
        "    mode=\"rephrase\", #or use translate and pass in target_language\n",
        "    target_language=\"\",\n",
        "    enable_thinking=False, # you can enable thinking for better results but will take much longer\n",
        "    process_keypoints=True,\n",
        "    process_detections=True,\n",
        "    delegate=True\n",
        "    )"
      ],
      "metadata": {
        "id": "V9S47vi_X6-e"
      },
      "execution_count": null,
      "outputs": []
    },
    {
      "cell_type": "code",
      "source": [
        "import time\n",
        "\n",
        "def keep_running():\n",
        "  \"\"\"Keeps the cell running indefinitely.\"\"\"\n",
        "  while True:\n",
        "    print(\"Cell is still running...\")\n",
        "    time.sleep(6000000) # Sleep for 60 seconds\n",
        "\n",
        "keep_running()"
      ],
      "metadata": {
        "id": "TVPlrGpD91in"
      },
      "execution_count": null,
      "outputs": []
    },
    {
      "cell_type": "markdown",
      "source": [
        "Pick one, or more, of the following. Depends on your disk space."
      ],
      "metadata": {
        "id": "bXFIEGeQNXyH"
      }
    },
    {
      "cell_type": "code",
      "source": [
        "import fiftyone as fo\n",
        "import fiftyone.operators as foo\n",
        "\n",
        "colorblind_sim_augment = foo.get_operator(\"@harpreetsahota/synthetic_gui_samples_plugins/colorblind_sim_augment\")\n",
        "\n",
        "colorblind_sim_augment(\n",
        "    train_view,\n",
        "    colorblind_type=\"tritanopia\",\n",
        "    copy_keypoints=True,\n",
        "    copy_detections=True,\n",
        "    delegate=True\n",
        "    )"
      ],
      "metadata": {
        "id": "lGUW7tZAQamT"
      },
      "execution_count": null,
      "outputs": []
    },
    {
      "cell_type": "code",
      "source": [
        "import fiftyone as fo\n",
        "import fiftyone.operators as foo\n",
        "\n",
        "invert_colors_augment = foo.get_operator(\"@harpreetsahota/synthetic_gui_samples_plugins/invert_colors_augment\")\n",
        "\n",
        "invert_colors_augment(\n",
        "    train_view,\n",
        "    copy_keypoints=True,\n",
        "    copy_detections=True,\n",
        "    delegate=True\n",
        "    )"
      ],
      "metadata": {
        "id": "ELWg3Tm2PvFz"
      },
      "execution_count": null,
      "outputs": []
    },
    {
      "cell_type": "code",
      "source": [
        "resizer = foo.get_operator(\"@harpreetsahota/synthetic_gui_samples_plugins/resize_images\")\n",
        "\n",
        "resizer(\n",
        "    train_view,\n",
        "    use_custom=True,\n",
        "    target_width=1024,\n",
        "    target_height=768,\n",
        "    copy_keypoints=True,\n",
        "    copy_detections=True,\n",
        "    delegate=True\n",
        "    )"
      ],
      "metadata": {
        "id": "xiE66EgREJTF"
      },
      "execution_count": null,
      "outputs": []
    },
    {
      "cell_type": "markdown",
      "source": [
        "You can apply these other transforms if you'd like. However, it will take up significant amounts of disk space."
      ],
      "metadata": {
        "id": "lQXGWh79SqhH"
      }
    },
    {
      "cell_type": "code",
      "source": [
        "# colorblind_sim_augment(\n",
        "#     train_view,\n",
        "#     colorblind_type=\"protanopia\",\n",
        "#     copy_keypoints=True,\n",
        "#     copy_detections=True,\n",
        "#     delegate=True\n",
        "#     )"
      ],
      "metadata": {
        "id": "jnKQVOuiU5wy"
      },
      "execution_count": null,
      "outputs": []
    },
    {
      "cell_type": "code",
      "source": [
        "# colorblind_sim_augment(\n",
        "#     train_view,\n",
        "#     colorblind_type=\"deuteranopia\",\n",
        "#     copy_keypoints=True,\n",
        "#     copy_detections=True,\n",
        "#     delegate=True\n",
        "#     )"
      ],
      "metadata": {
        "id": "XxydsrdEVDxO"
      },
      "execution_count": null,
      "outputs": []
    },
    {
      "cell_type": "code",
      "source": [
        "# grayscale_augment = foo.get_operator(\"@harpreetsahota/synthetic_gui_samples_plugins/grayscale_augment\")\n",
        "\n",
        "# grayscale_augment(\n",
        "#     train_view,\n",
        "#     copy_keypoints=True,\n",
        "#     copy_detections=True,\n",
        "#     delegate=True\n",
        "#     )"
      ],
      "metadata": {
        "id": "Up75-0_jVTpt"
      },
      "execution_count": null,
      "outputs": []
    },
    {
      "cell_type": "code",
      "source": [
        "# resizer(\n",
        "#     train_view,\n",
        "#     use_custom=False,\n",
        "#     target_width=1440,\n",
        "#     target_height=900,\n",
        "#     copy_keypoints=True,\n",
        "#     copy_detections=True,\n",
        "#     delegate=True\n",
        "#     )"
      ],
      "metadata": {
        "id": "8E6wKUQjWEML"
      },
      "execution_count": null,
      "outputs": []
    },
    {
      "cell_type": "markdown",
      "source": [
        "To keep track of your runs, you can run `fiftyone delegated launch` in your termninal (or in your notebook, as shown below)"
      ],
      "metadata": {
        "id": "JwHmR3cLS7sx"
      }
    },
    {
      "cell_type": "code",
      "source": [
        "!fiftyone delegated list"
      ],
      "metadata": {
        "id": "6bEKMn8mm_UW"
      },
      "execution_count": null,
      "outputs": []
    },
    {
      "cell_type": "code",
      "source": [
        "train_view"
      ],
      "metadata": {
        "id": "4CpF5d_fWjol"
      },
      "execution_count": null,
      "outputs": []
    },
    {
      "cell_type": "markdown",
      "source": [
        "Combine the training dataset (which now has synthtic samples) with the validation dataset:"
      ],
      "metadata": {
        "id": "Vb0FUicXTXKu"
      }
    },
    {
      "cell_type": "code",
      "source": [
        "train_view.tag_samples(\"train\")\n",
        "\n",
        "train_view.save()\n",
        "\n",
        "new_dataset = train_view.concat(dataset.match_tags(\"val\").clone())\n",
        "\n",
        "new_dataset.name = \"FiftyOne-GUI-Grounding-Train-with-Synthetic\""
      ],
      "metadata": {
        "id": "Mrn1QoOTTC8U"
      },
      "execution_count": null,
      "outputs": []
    },
    {
      "cell_type": "markdown",
      "source": [
        "And push it to the Hugging Face Hub:"
      ],
      "metadata": {
        "id": "hL0WLEuTTd1y"
      }
    },
    {
      "cell_type": "code",
      "source": [
        "from fiftyone.utils.huggingface import push_to_hub\n",
        "\n",
        "push_to_hub(\n",
        "    new_dataset,\n",
        "    \"FiftyOne-GUI-Grounding-Train-with-Synthetic\",\n",
        "    exist_ok=True\n",
        ")"
      ],
      "metadata": {
        "id": "n2MVUtdk9VMc"
      },
      "execution_count": null,
      "outputs": []
    },
    {
      "cell_type": "markdown",
      "source": [
        "You can test that the dataset was successfully uploaded as follows:"
      ],
      "metadata": {
        "id": "85v-SGhGTRnA"
      }
    },
    {
      "cell_type": "code",
      "source": [
        "import fiftyone as fo\n",
        "\n",
        "from fiftyone.utils.huggingface import load_from_hub\n",
        "\n",
        "test_dataset = load_from_hub(\n",
        "    \"harpreetsahota/FiftyOne-GUI-Grounding-Train-with-Synthetic\",\n",
        "    overwrite=True\n",
        "    )"
      ],
      "metadata": {
        "id": "vGq6sYL-rJVx"
      },
      "execution_count": null,
      "outputs": []
    },
    {
      "cell_type": "code",
      "source": [
        "fo.launch_app(test_dataset)"
      ],
      "metadata": {
        "id": "FACyKCktIWM7"
      },
      "execution_count": null,
      "outputs": []
    },
    {
      "cell_type": "code",
      "source": [],
      "metadata": {
        "id": "9iIHFC0tIXiX"
      },
      "execution_count": null,
      "outputs": []
    }
  ]
}