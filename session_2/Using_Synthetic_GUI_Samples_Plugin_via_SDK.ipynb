{
  "cells": [
    {
      "cell_type": "markdown",
      "metadata": {},
      "source": [
        "# Using Synthetic GUI Samples Plugin via SDK\n",
        "\n",
        "[![Open In Colab](https://colab.research.google.com/assets/colab-badge.svg)](https://colab.research.google.com/github/harpreetsahota204/visual_agents_workshop/blob/main/session_2/Using_Synthetic_GUI_Samples_Plugin_via_SDK.ipynb)\n"
      ]
    },
    {
      "cell_type": "markdown",
      "metadata": {
        "id": "YJ0ECYWsPhnk"
      },
      "source": [
        "# Install requirements"
      ]
    },
    {
      "cell_type": "code",
      "execution_count": null,
      "metadata": {
        "id": "15Fo-MA6N1O_"
      },
      "outputs": [],
      "source": [
        "!pip install fiftyone"
      ]
    },
    {
      "cell_type": "code",
      "execution_count": null,
      "metadata": {
        "id": "zbfRmycvOx6e"
      },
      "outputs": [],
      "source": [
        "!fiftyone plugins download https://github.com/harpreetsahota204/synthetic_gui_samples_plugins.git --overwrite"
      ]
    },
    {
      "cell_type": "markdown",
      "metadata": {
        "id": "ARF5Jem-PlFD"
      },
      "source": [
        "# Download training dataset"
      ]
    },
    {
      "cell_type": "code",
      "execution_count": null,
      "metadata": {
        "id": "ThQA59B-PsSe"
      },
      "outputs": [],
      "source": [
        "import fiftyone as fo\n",
        "\n",
        "from fiftyone.utils.huggingface import load_from_hub\n",
        "\n",
        "dataset = load_from_hub(\n",
        "    \"harpreetsahota/FiftyOne-GUI-Grounding-Train\",\n",
        "    overwrite=True\n",
        "    )"
      ]
    },
    {
      "cell_type": "markdown",
      "metadata": {
        "id": "2qkhh0RYPfBF"
      },
      "source": [
        "# Split datatset upfront"
      ]
    },
    {
      "cell_type": "code",
      "execution_count": null,
      "metadata": {
        "id": "uVN0Len3PeRb"
      },
      "outputs": [],
      "source": [
        "import fiftyone.utils.random as four\n",
        "\n",
        "four.random_split(dataset, {\"train\": 0.5, \"val\": 0.5})\n",
        "\n",
        "train_view = dataset.match_tags(\"train\").clone()\n",
        "\n",
        "val_view = dataset.match_tags(\"val\")"
      ]
    },
    {
      "cell_type": "code",
      "execution_count": null,
      "metadata": {
        "id": "HT4zf1UdaWLb"
      },
      "outputs": [],
      "source": [
        "train_view"
      ]
    },
    {
      "cell_type": "markdown",
      "metadata": {
        "id": "8cy_msB4PeV0"
      },
      "source": [
        "# Using only training split to generate synthetic samples"
      ]
    },
    {
      "cell_type": "markdown",
      "metadata": {
        "id": "j6QzuoWZSTac"
      },
      "source": [
        "Before running the plugins, open the terminal and launch a delegated service: `fiftyone delegated launch`"
      ]
    },
    {
      "cell_type": "code",
      "execution_count": null,
      "metadata": {
        "id": "V9S47vi_X6-e"
      },
      "outputs": [],
      "source": [
        "import fiftyone as fo\n",
        "import fiftyone.operators as foo\n",
        "\n",
        "rephraser = foo.get_operator(\"@harpreetsahota/synthetic_gui_samples_plugins/task_description_augment\")\n",
        "\n",
        "rephraser(\n",
        "    train_view,\n",
        "    model_name=\"Qwen/Qwen3-8B\",\n",
        "    mode=\"rephrase\", #or use translate and pass in target_language\n",
        "    target_language=\"\",\n",
        "    enable_thinking=False, # you can enable thinking for better results but will take much longer\n",
        "    process_keypoints=True,\n",
        "    process_detections=True,\n",
        "    delegate=True\n",
        "    )"
      ]
    },
    {
      "cell_type": "code",
      "execution_count": null,
      "metadata": {
        "id": "TVPlrGpD91in"
      },
      "outputs": [],
      "source": [
        "import time\n",
        "\n",
        "def keep_running():\n",
        "  \"\"\"Keeps the cell running indefinitely.\"\"\"\n",
        "  while True:\n",
        "    print(\"Cell is still running...\")\n",
        "    time.sleep(6000000) # Sleep for 60 seconds\n",
        "\n",
        "keep_running()"
      ]
    },
    {
      "cell_type": "markdown",
      "metadata": {
        "id": "bXFIEGeQNXyH"
      },
      "source": [
        "Pick one, or more, of the following. Depends on your disk space."
      ]
    },
    {
      "cell_type": "code",
      "execution_count": null,
      "metadata": {
        "id": "lGUW7tZAQamT"
      },
      "outputs": [],
      "source": [
        "import fiftyone as fo\n",
        "import fiftyone.operators as foo\n",
        "\n",
        "colorblind_sim_augment = foo.get_operator(\"@harpreetsahota/synthetic_gui_samples_plugins/colorblind_sim_augment\")\n",
        "\n",
        "colorblind_sim_augment(\n",
        "    train_view,\n",
        "    colorblind_type=\"tritanopia\",\n",
        "    copy_keypoints=True,\n",
        "    copy_detections=True,\n",
        "    delegate=True\n",
        "    )"
      ]
    },
    {
      "cell_type": "code",
      "execution_count": null,
      "metadata": {
        "id": "ELWg3Tm2PvFz"
      },
      "outputs": [],
      "source": [
        "import fiftyone as fo\n",
        "import fiftyone.operators as foo\n",
        "\n",
        "invert_colors_augment = foo.get_operator(\"@harpreetsahota/synthetic_gui_samples_plugins/invert_colors_augment\")\n",
        "\n",
        "invert_colors_augment(\n",
        "    train_view,\n",
        "    copy_keypoints=True,\n",
        "    copy_detections=True,\n",
        "    delegate=True\n",
        "    )"
      ]
    },
    {
      "cell_type": "code",
      "execution_count": null,
      "metadata": {
        "id": "xiE66EgREJTF"
      },
      "outputs": [],
      "source": [
        "resizer = foo.get_operator(\"@harpreetsahota/synthetic_gui_samples_plugins/resize_images\")\n",
        "\n",
        "resizer(\n",
        "    train_view,\n",
        "    use_custom=True,\n",
        "    target_width=1024,\n",
        "    target_height=768,\n",
        "    copy_keypoints=True,\n",
        "    copy_detections=True,\n",
        "    delegate=True\n",
        "    )"
      ]
    },
    {
      "cell_type": "markdown",
      "metadata": {
        "id": "lQXGWh79SqhH"
      },
      "source": [
        "You can apply these other transforms if you'd like. However, it will take up significant amounts of disk space."
      ]
    },
    {
      "cell_type": "code",
      "execution_count": null,
      "metadata": {
        "id": "jnKQVOuiU5wy"
      },
      "outputs": [],
      "source": [
        "# colorblind_sim_augment(\n",
        "#     train_view,\n",
        "#     colorblind_type=\"protanopia\",\n",
        "#     copy_keypoints=True,\n",
        "#     copy_detections=True,\n",
        "#     delegate=True\n",
        "#     )"
      ]
    },
    {
      "cell_type": "code",
      "execution_count": null,
      "metadata": {
        "id": "XxydsrdEVDxO"
      },
      "outputs": [],
      "source": [
        "# colorblind_sim_augment(\n",
        "#     train_view,\n",
        "#     colorblind_type=\"deuteranopia\",\n",
        "#     copy_keypoints=True,\n",
        "#     copy_detections=True,\n",
        "#     delegate=True\n",
        "#     )"
      ]
    },
    {
      "cell_type": "code",
      "execution_count": null,
      "metadata": {
        "id": "Up75-0_jVTpt"
      },
      "outputs": [],
      "source": [
        "# grayscale_augment = foo.get_operator(\"@harpreetsahota/synthetic_gui_samples_plugins/grayscale_augment\")\n",
        "\n",
        "# grayscale_augment(\n",
        "#     train_view,\n",
        "#     copy_keypoints=True,\n",
        "#     copy_detections=True,\n",
        "#     delegate=True\n",
        "#     )"
      ]
    },
    {
      "cell_type": "code",
      "execution_count": null,
      "metadata": {
        "id": "8E6wKUQjWEML"
      },
      "outputs": [],
      "source": [
        "# resizer(\n",
        "#     train_view,\n",
        "#     use_custom=False,\n",
        "#     target_width=1440,\n",
        "#     target_height=900,\n",
        "#     copy_keypoints=True,\n",
        "#     copy_detections=True,\n",
        "#     delegate=True\n",
        "#     )"
      ]
    },
    {
      "cell_type": "markdown",
      "metadata": {
        "id": "JwHmR3cLS7sx"
      },
      "source": [
        "To keep track of your runs, you can run `fiftyone delegated launch` in your termninal (or in your notebook, as shown below)"
      ]
    },
    {
      "cell_type": "code",
      "execution_count": null,
      "metadata": {
        "id": "6bEKMn8mm_UW"
      },
      "outputs": [],
      "source": [
        "!fiftyone delegated list"
      ]
    },
    {
      "cell_type": "code",
      "execution_count": null,
      "metadata": {
        "id": "4CpF5d_fWjol"
      },
      "outputs": [],
      "source": [
        "train_view"
      ]
    },
    {
      "cell_type": "markdown",
      "metadata": {
        "id": "Vb0FUicXTXKu"
      },
      "source": [
        "Combine the training dataset (which now has synthtic samples) with the validation dataset:"
      ]
    },
    {
      "cell_type": "code",
      "execution_count": null,
      "metadata": {
        "id": "Mrn1QoOTTC8U"
      },
      "outputs": [],
      "source": [
        "train_view.tag_samples(\"train\")\n",
        "\n",
        "train_view.save()\n",
        "\n",
        "new_dataset = train_view.concat(dataset.match_tags(\"val\").clone())\n",
        "\n",
        "new_dataset.name = \"FiftyOne-GUI-Grounding-Train-with-Synthetic\""
      ]
    },
    {
      "cell_type": "markdown",
      "metadata": {
        "id": "hL0WLEuTTd1y"
      },
      "source": [
        "And push it to the Hugging Face Hub:"
      ]
    },
    {
      "cell_type": "code",
      "execution_count": null,
      "metadata": {
        "id": "n2MVUtdk9VMc"
      },
      "outputs": [],
      "source": [
        "from fiftyone.utils.huggingface import push_to_hub\n",
        "\n",
        "push_to_hub(\n",
        "    new_dataset,\n",
        "    \"FiftyOne-GUI-Grounding-Train-with-Synthetic\",\n",
        "    exist_ok=True\n",
        ")"
      ]
    },
    {
      "cell_type": "markdown",
      "metadata": {
        "id": "85v-SGhGTRnA"
      },
      "source": [
        "You can test that the dataset was successfully uploaded as follows:"
      ]
    },
    {
      "cell_type": "code",
      "execution_count": null,
      "metadata": {
        "id": "vGq6sYL-rJVx"
      },
      "outputs": [],
      "source": [
        "import fiftyone as fo\n",
        "\n",
        "from fiftyone.utils.huggingface import load_from_hub\n",
        "\n",
        "test_dataset = load_from_hub(\n",
        "    \"harpreetsahota/FiftyOne-GUI-Grounding-Train-with-Synthetic\",\n",
        "    overwrite=True\n",
        "    )"
      ]
    },
    {
      "cell_type": "code",
      "execution_count": null,
      "metadata": {
        "id": "FACyKCktIWM7"
      },
      "outputs": [],
      "source": [
        "fo.launch_app(test_dataset)"
      ]
    },
    {
      "cell_type": "code",
      "execution_count": null,
      "metadata": {
        "id": "9iIHFC0tIXiX"
      },
      "outputs": [],
      "source": []
    }
  ],
  "metadata": {
    "accelerator": "GPU",
    "colab": {
      "gpuType": "A100",
      "machine_shape": "hm",
      "provenance": []
    },
    "kernelspec": {
      "display_name": "Python 3",
      "name": "python3"
    },
    "language_info": {
      "name": "python"
    }
  },
  "nbformat": 4,
  "nbformat_minor": 0
}
